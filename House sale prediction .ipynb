{
 "cells": [
  {
   "cell_type": "code",
   "execution_count": 1,
   "id": "0f9c87ae-d61d-48b2-b627-87865922d8f1",
   "metadata": {},
   "outputs": [],
   "source": [
    "import pandas as pd \n",
    "import numpy as np\n",
    "from sklearn.linear_model import LinearRegression\n"
   ]
  },
  {
   "cell_type": "code",
   "execution_count": 2,
   "id": "bdf4eb24-0c60-47b0-bf10-a94fc6cf065e",
   "metadata": {},
   "outputs": [
    {
     "name": "stdout",
     "output_type": "stream",
     "text": [
      "0\n",
      "['Silvertown' 'Riverford' 'Teasdale' 'Poppleton' '--']\n"
     ]
    }
   ],
   "source": [
    "df = pd.read_csv(\"C:/Users/pc/Documents/workspace/house_sales.csv\")\n",
    "missing_city = df['city'].isnull().sum()\n",
    "print(missing_city)\n",
    "print(df['city'].unique())"
   ]
  },
  {
   "cell_type": "code",
   "execution_count": 3,
   "id": "c9261c58-8eb0-403b-b82f-c8dd6909daf7",
   "metadata": {},
   "outputs": [
    {
     "name": "stdout",
     "output_type": "stream",
     "text": [
      "   house_id        city  sale_price   sale_date  months_listed  bedrooms  \\\n",
      "0   1217792  Silvertown       55943  2021-09-12            5.4         2   \n",
      "1   1900913  Silvertown      384677  2021-01-17            6.3         5   \n",
      "2   1174927   Riverford      281707  2021-11-10            6.9         6   \n",
      "3   1773666  Silvertown      373251  2020-04-13            6.1         6   \n",
      "4   1258487  Silvertown      328885  2020-09-24            8.7         5   \n",
      "\n",
      "      house_type         area  \n",
      "0  Semi-detached  107.8 sq.m.  \n",
      "1       Detached  498.8 sq.m.  \n",
      "2       Detached  542.5 sq.m.  \n",
      "3           Det.  528.4 sq.m.  \n",
      "4       Detached  477.1 sq.m.  \n"
     ]
    }
   ],
   "source": [
    "import pandas as pd\n",
    "df = pd.read_csv(\"C:/Users/pc/Documents/workspace/house_sales.csv\")\n",
    "# Create a cleaned version of the dataframe\n",
    "clean_data = df.copy()\n",
    "\n",
    "# Replace any missing values in the 'city' column with \"Unknown\"\n",
    "clean_data['city'] = clean_data['city'].fillna('Unknown')\n",
    "print(clean_data.head())"
   ]
  },
  {
   "cell_type": "code",
   "execution_count": 4,
   "id": "29b5adb8-7982-4618-a803-e02d72182f21",
   "metadata": {},
   "outputs": [
    {
     "name": "stdout",
     "output_type": "stream",
     "text": [
      "   house_id        city  sale_price   sale_date  months_listed  bedrooms  \\\n",
      "0   1217792  Silvertown       55943  2021-09-12            5.4         2   \n",
      "1   1900913  Silvertown      384677  2021-01-17            6.3         5   \n",
      "2   1174927   Riverford      281707  2021-11-10            6.9         6   \n",
      "3   1773666  Silvertown      373251  2020-04-13            6.1         6   \n",
      "4   1258487  Silvertown      328885  2020-09-24            8.7         5   \n",
      "\n",
      "      house_type         area  \n",
      "0  Semi-detached  107.8 sq.m.  \n",
      "1       Detached  498.8 sq.m.  \n",
      "2       Detached  542.5 sq.m.  \n",
      "3           Det.  528.4 sq.m.  \n",
      "4       Detached  477.1 sq.m.  \n"
     ]
    }
   ],
   "source": [
    "# Remove rows with missing 'sale_price' values\n",
    "clean_data = df.dropna(subset=['sale_price'])\n",
    "# Ensure that all sale prices are non-negative\n",
    "clean_data = clean_data[clean_data['sale_price'] >= 0]\n",
    "# Display the cleaned data\n",
    "print(clean_data.head())"
   ]
  },
  {
   "cell_type": "code",
   "execution_count": 5,
   "id": "62042cc4-e687-4d70-80d8-dca93c303409",
   "metadata": {},
   "outputs": [
    {
     "name": "stdout",
     "output_type": "stream",
     "text": [
      "   house_id        city  sale_price   sale_date  months_listed  bedrooms  \\\n",
      "0   1217792  Silvertown       55943  2021-09-12            5.4         2   \n",
      "1   1900913  Silvertown      384677  2021-01-17            6.3         5   \n",
      "2   1174927   Riverford      281707  2021-11-10            6.9         6   \n",
      "3   1773666  Silvertown      373251  2020-04-13            6.1         6   \n",
      "4   1258487  Silvertown      328885  2020-09-24            8.7         5   \n",
      "\n",
      "      house_type         area  \n",
      "0  Semi-detached  107.8 sq.m.  \n",
      "1       Detached  498.8 sq.m.  \n",
      "2       Detached  542.5 sq.m.  \n",
      "3           Det.  528.4 sq.m.  \n",
      "4       Detached  477.1 sq.m.  \n"
     ]
    }
   ],
   "source": [
    "# Replace missing values in the 'sale_date' column with '2023-01-01'\n",
    "df['sale_date'] = df['sale_date'].fillna('2023-01-01')\n",
    "# Display the cleaned data\n",
    "print(df.head())"
   ]
  },
  {
   "cell_type": "code",
   "execution_count": 6,
   "id": "a0cf3c50-33c2-42a0-9732-9590103e7e75",
   "metadata": {},
   "outputs": [],
   "source": [
    "# Calculate the mean number of months listed, rounded to one decimal place\n",
    "mean_months_listed = round(df['months_listed'].mean(), 1)\n",
    "# Replace missing values in the 'months_listed' column with the calculated mean\n",
    "df['months_listed'] = df['months_listed'].fillna(mean_months_listed)\n"
   ]
  },
  {
   "cell_type": "code",
   "execution_count": 7,
   "id": "3bef27d4-d9f3-400c-b7e2-6948b8b34307",
   "metadata": {},
   "outputs": [],
   "source": [
    "import pandas as pd\n",
    "import math\n",
    "\n",
    "\n",
    "# Calculate the mean number of bedrooms, rounded to the nearest integer\n",
    "mean_bedrooms = round(df['bedrooms'].mean())\n",
    "\n",
    "# Replace missing values in the 'bedrooms' column with the calculated mean\n",
    "df['bedrooms'] = df['bedrooms'].fillna(mean_bedrooms)\n",
    "\n",
    "# Ensure that all bedroom values are non-negative integers\n",
    "df['bedrooms'] = df['bedrooms'].apply(lambda x: max(0, math.ceil(x)))\n",
    "\n"
   ]
  },
  {
   "cell_type": "code",
   "execution_count": 8,
   "id": "8c1f275a-09c6-42d1-bb59-8a5e3b756e18",
   "metadata": {},
   "outputs": [],
   "source": [
    "# Determine the most common house type\n",
    "most_common_house_type = df['house_type'].mode()[0]\n",
    "\n",
    "# Replace missing values in the 'house_type' column with the most common house type\n",
    "df['house_type'] = df['house_type'].fillna(most_common_house_type)"
   ]
  },
  {
   "cell_type": "code",
   "execution_count": 9,
   "id": "8bedbb7b-b340-42e1-b02f-77ed3f6705cb",
   "metadata": {},
   "outputs": [],
   "source": [
    "# Convert the 'area' column to a numeric type (assuming it may have units like \"sq.m.\")\n",
    "df['area'] = df['area'].str.replace(' sq.m.', '').astype(float)\n",
    "\n",
    "# Calculate the mean area, rounded to one decimal place\n",
    "mean_area = round(df['area'].mean(), 1)\n",
    "\n",
    "# Replace missing values in the 'area' column with the calculated mean\n",
    "df['area'] = df['area'].fillna(mean_area).round(1)\n"
   ]
  },
  {
   "cell_type": "code",
   "execution_count": 24,
   "id": "5ca9995a-45ab-4fd2-a84c-87a35f5ff9e2",
   "metadata": {},
   "outputs": [
    {
     "name": "stdout",
     "output_type": "stream",
     "text": [
      "   bedrooms  avg_price     var_price\n",
      "0         2    67076.4  5.652896e+08\n",
      "1         3   154665.1  2.378289e+09\n",
      "2         4   234704.6  1.725211e+09\n",
      "3         5   301515.9  2.484328e+09\n",
      "4         6   375741.3  3.924432e+09\n"
     ]
    }
   ],
   "source": [
    "# Group by the number of bedrooms and calculate the average price and variance\n",
    "price_by_rooms = df.groupby('bedrooms')['sale_price'].agg(\n",
    "    avg_price=lambda x: round(x.mean(), 1),\n",
    "    var_price=lambda x: round(x.var(), 1)\n",
    ").reset_index()\n",
    "\n",
    "# Display the resulting dataframe\n",
    "print(price_by_rooms)"
   ]
  },
  {
   "cell_type": "code",
   "execution_count": 34,
   "id": "815d95c6-0daf-4401-b031-9ab460d10ba0",
   "metadata": {},
   "outputs": [
    {
     "name": "stdout",
     "output_type": "stream",
     "text": [
      "   house_id     price\n",
      "0   1331375  122032.1\n",
      "1   1630115  303641.2\n",
      "2   1645745  384158.9\n",
      "3   1336775  124233.6\n",
      "4   1888274  271904.8\n"
     ]
    }
   ],
   "source": [
    "import pandas as pd\n",
    "from sklearn.linear_model import LinearRegression\n",
    "from sklearn.model_selection import train_test_split\n",
    "from sklearn.preprocessing import OneHotEncoder\n",
    "from sklearn.compose import ColumnTransformer\n",
    "from sklearn.pipeline import Pipeline\n",
    "\n",
    "# Load the training data\n",
    "train_data = pd.read_csv(\"C:/Users/pc/Documents/workspace/train.csv\")\n",
    "\n",
    "# Load the validation data\n",
    "validation_data = pd.read_csv(\"C:/Users/pc/Documents/workspace/validation.csv\")\n",
    "# Convert sale_date to ordinal (numeric) format\n",
    "train_data['sale_date'] = pd.to_datetime(train_data['sale_date']).map(pd.Timestamp.toordinal)\n",
    "validation_data['sale_date'] = pd.to_datetime(validation_data['sale_date']).map(pd.Timestamp.toordinal)\n",
    "\n",
    "X_train = train_data.drop(columns=['sale_price', 'house_id'])\n",
    "y_train = train_data['sale_price']\n",
    "X_validation = validation_data.drop(columns=['house_id'])\n",
    "\n",
    "# Identify categorical columns\n",
    "categorical_cols = ['city', 'house_type']\n",
    "\n",
    "# Preprocess the data (One-hot encoding for categorical features)\n",
    "preprocessor = ColumnTransformer(\n",
    "    transformers=[\n",
    "        ('cat', OneHotEncoder(drop='first'), categorical_cols)],\n",
    "    remainder='passthrough')\n",
    "\n",
    "# Create a pipeline with the preprocessor and model\n",
    "model = Pipeline(steps=[\n",
    "    ('preprocessor', preprocessor),\n",
    "    ('model', LinearRegression())\n",
    "])\n",
    "\n",
    "# Fit the model\n",
    "model.fit(X_train, y_train)\n",
    "\n",
    "# Make predictions on the validation data\n",
    "predictions = model.predict(X_validation)\n",
    "\n",
    "# Create the result dataframe\n",
    "base_result = pd.DataFrame({\n",
    "    'house_id': validation_data['house_id'],\n",
    "    'price': predictions\n",
    "})\n",
    "\n",
    "# Ensure the price column is rounded to one decimal place\n",
    "base_result['price'] = base_result['price'].round(1)\n",
    "\n",
    "# Display the resulting dataframe\n",
    "print(base_result.head())\n",
    "\n"
   ]
  },
  {
   "cell_type": "code",
   "execution_count": 36,
   "id": "aaa6f0d6-2898-47ec-92e5-eb19a2bd4e16",
   "metadata": {},
   "outputs": [
    {
     "name": "stdout",
     "output_type": "stream",
     "text": [
      "   house_id     price\n",
      "0   1331375   80285.5\n",
      "1   1630115  306655.9\n",
      "2   1645745  404077.8\n",
      "3   1336775  108655.8\n",
      "4   1888274  270539.2\n"
     ]
    }
   ],
   "source": [
    "import pandas as pd\n",
    "from sklearn.ensemble import RandomForestRegressor\n",
    "from sklearn.compose import ColumnTransformer\n",
    "from sklearn.pipeline import Pipeline\n",
    "from sklearn.preprocessing import OneHotEncoder\n",
    "\n",
    "# Load the training and validation data\n",
    "train_data = pd.read_csv(\"C:/Users/pc/Documents/workspace/train.csv\")\n",
    "validation_data = pd.read_csv(\"C:/Users/pc/Documents/workspace/validation.csv\")\n",
    "\n",
    "# Convert sale_date to ordinal (numeric) format\n",
    "train_data['sale_date'] = pd.to_datetime(train_data['sale_date']).map(pd.Timestamp.toordinal)\n",
    "validation_data['sale_date'] = pd.to_datetime(validation_data['sale_date']).map(pd.Timestamp.toordinal)\n",
    "\n",
    "# Define the features and target\n",
    "X_train = train_data.drop(columns=['sale_price', 'house_id'])\n",
    "y_train = train_data['sale_price']\n",
    "X_validation = validation_data.drop(columns=['house_id'])\n",
    "\n",
    "# Identify categorical columns\n",
    "categorical_cols = ['city', 'house_type']\n",
    "\n",
    "# Preprocess the data (One-hot encoding for categorical features)\n",
    "preprocessor = ColumnTransformer(\n",
    "    transformers=[\n",
    "        ('cat', OneHotEncoder(drop='first'), categorical_cols)],\n",
    "    remainder='passthrough')\n",
    "\n",
    "# Create a pipeline with the preprocessor and RandomForestRegressor model\n",
    "comparison_model = Pipeline(steps=[\n",
    "    ('preprocessor', preprocessor),\n",
    "    ('model', RandomForestRegressor(random_state=0))\n",
    "])\n",
    "\n",
    "# Fit the model\n",
    "comparison_model.fit(X_train, y_train)\n",
    "\n",
    "# Make predictions on the validation data\n",
    "comparison_predictions = comparison_model.predict(X_validation)\n",
    "\n",
    "# Create the result dataframe\n",
    "compare_result = pd.DataFrame({\n",
    "    'house_id': validation_data['house_id'],\n",
    "    'price': comparison_predictions\n",
    "})\n",
    "\n",
    "# Ensure the price column is rounded to one decimal place\n",
    "compare_result['price'] = compare_result['price'].round(1)\n",
    "\n",
    "# Display the resulting dataframe\n",
    "print(compare_result.head())\n"
   ]
  },
  {
   "cell_type": "code",
   "execution_count": null,
   "id": "af02f67a-6557-414a-9aa6-e32451a07161",
   "metadata": {},
   "outputs": [],
   "source": []
  }
 ],
 "metadata": {
  "kernelspec": {
   "display_name": "Python 3 (ipykernel)",
   "language": "python",
   "name": "python3"
  },
  "language_info": {
   "codemirror_mode": {
    "name": "ipython",
    "version": 3
   },
   "file_extension": ".py",
   "mimetype": "text/x-python",
   "name": "python",
   "nbconvert_exporter": "python",
   "pygments_lexer": "ipython3",
   "version": "3.12.4"
  }
 },
 "nbformat": 4,
 "nbformat_minor": 5
}
